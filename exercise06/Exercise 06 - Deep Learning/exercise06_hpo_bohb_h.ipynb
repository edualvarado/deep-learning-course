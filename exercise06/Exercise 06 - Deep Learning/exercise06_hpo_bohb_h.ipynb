{
 "cells": [
  {
   "cell_type": "markdown",
   "metadata": {},
   "source": [
    "# Sixth Exercise (HPO)\n",
    "\n",
    "This exercise focuses on hyperparameter optimization with neural networks.\n",
    "\n",
    "We will\n",
    "- define hyperparameter-configuration search-spaces\n",
    "- train deep learning models with various hyper parameters\n",
    "- use random search as a basic hyperparameter optimizer\n",
    "- use BOHB as an advanced hyperparameter optimizer\n",
    "\n",
    "It's in the nature of hyperparameter optimization, that you'll have to train a lot of models. \n",
    "Therefore execution time will be longer in this exercise, running the completed notebook takes about 30 minutes on a tutor's 3 year old laptop."
   ]
  },
  {
   "cell_type": "markdown",
   "metadata": {},
   "source": [
    "#### Install HpBandster and torchvision\n",
    "\n",
    "You need to install two more python packages for this exercise.\n",
    "\n",
    "- [torchvision](https://pytorch.org/docs/stable/torchvision/) provides utility methods for pytorch.\n",
    "- [HpBandSter](https://github.com/automl/HpBandSter) is a fast, parallel implementation of several hyperparameter optimizers.  \n",
    "   We can define even complex hyperparameter search spaces with [ConfigSpace](https://github.com/automl/ConfigSpace), which comes along HpBandSter as dependency.\n",
    "\n",
    "\n",
    "Install with anaconda/conda\n",
    "```\n",
    "conda install torchvision\n",
    "conda install hpbandster\n",
    "```\n",
    "\n",
    "or with plain python\n",
    "```\n",
    "pip3 install torchvision\n",
    "pip3 install hpbandster\n",
    "```"
   ]
  },
  {
   "cell_type": "code",
   "execution_count": 1,
   "metadata": {},
   "outputs": [],
   "source": [
    "import os\n",
    "from typing import Tuple, List\n",
    "\n",
    "import torch\n",
    "import torch.nn as nn\n",
    "import torch.nn.functional as F\n",
    "from torch.utils.data import DataLoader\n",
    "from torch.utils.data.sampler import SubsetRandomSampler\n",
    "import torchvision\n",
    "import torchvision.transforms as transforms\n",
    "\n",
    "import ConfigSpace as CS\n",
    "import ConfigSpace.hyperparameters as CSH\n",
    "\n",
    "from ConfigSpace.hyperparameters import CategoricalHyperparameter, \\\n",
    "    UniformFloatHyperparameter, UniformIntegerHyperparameter\n",
    "from ConfigSpace.conditions import InCondition\n",
    "\n",
    "import numpy as np\n",
    "import matplotlib.pyplot as plt\n",
    "%matplotlib inline\n",
    "\n",
    "class Flatten(nn.Module): \n",
    "    def forward(self, input):\n",
    "        self.input_shape = input.shape\n",
    "        return input.view(input.size(0), -1)\n",
    "\n",
    "def load_mnist_minibatched(batch_size: int, n_train: int = 8192, n_valid: int = 1024,\n",
    "                           valid_test_batch_size: int = 1024) -> Tuple[DataLoader, DataLoader, DataLoader]:\n",
    "    train_dataset = torchvision.datasets.MNIST(\n",
    "        root='../data', train=True, transform=transforms.ToTensor(), download=True)\n",
    "    test_dataset = torchvision.datasets.MNIST(\n",
    "        root='../data', train=False, transform=transforms.ToTensor())\n",
    "\n",
    "    train_sampler = SubsetRandomSampler(range(n_train))\n",
    "    validation_sampler = SubsetRandomSampler(range(n_train, n_train+n_valid))\n",
    "\n",
    "    train_loader = DataLoader(dataset=train_dataset, batch_size=batch_size, sampler=train_sampler)\n",
    "    validation_loader = DataLoader(dataset=train_dataset, batch_size=valid_test_batch_size,\n",
    "                                   sampler=validation_sampler)\n",
    "    test_loader = torch.utils.data.DataLoader(dataset=test_dataset, batch_size=valid_test_batch_size, \n",
    "                                              shuffle=False)\n",
    "    return train_loader, validation_loader, test_loader\n",
    "\n",
    "\n",
    "def evaluate_accuracy(model: nn.Module, data_loader: DataLoader, loss_fn) -> float:\n",
    "    model.eval()\n",
    "    correct = 0\n",
    "    loss = 0\n",
    "    with torch.no_grad():\n",
    "        for x, y in data_loader:\n",
    "            output = model(x)\n",
    "            loss+=loss_fn(output, y)\n",
    "            # get the index of the max log-probability\n",
    "            pred = output.max(1, keepdim=True)[1]\n",
    "            correct += pred.eq(y.view_as(pred)).sum().item()\n",
    "    accuracy = correct / len(data_loader.sampler)\n",
    "    return accuracy, loss"
   ]
  },
  {
   "cell_type": "markdown",
   "metadata": {},
   "source": [
    "## Random Search\n",
    "\n",
    "Here we get hands on hyperparameter optimization using random search.\n",
    "\n",
    "### Model and Hyperparameter Space\n",
    "\n",
    "First we define a configurable model and a hyperparameter space. You learn how to use *ConfigSpace* to define the hyperparameters, by looking at [this example](https://automl.github.io/SMAC3/stable/quickstart.html#using-smac-in-python-svm).   \n",
    "\n",
    "**Task:** Complete the functions as described in the docstrings.\n",
    "\n",
    "**Hint:** The `CS.GreaterThanCondition(conditioned_hyperparameter, lefthand_side, righthand_side)` method might be useful."
   ]
  },
  {
   "cell_type": "code",
   "execution_count": 46,
   "metadata": {},
   "outputs": [],
   "source": [
    "from collections import OrderedDict\n",
    "\n",
    "    \n",
    "def get_conv_model(num_filters_per_layer: List[int]) -> nn.Module:\n",
    "    \"\"\"Builds a deep convolutional model with various number of convolution\n",
    "       layers for MNIST input using pytorch.\n",
    "\n",
    "    for each element in num_filters_per_layer:\n",
    "        convolution (conv_kernel_size, num_filters, stride=1, padding=0)\n",
    "        relu\n",
    "        max pool    (pool_kernel_size, stride=1)\n",
    "    linear\n",
    "    log softmax\n",
    "    \"\"\"\n",
    "    assert len(num_filters_per_layer) > 0, \"len(num_filters_per_layer) should be greater than 0\"\n",
    "    pool_kernel_size = 2\n",
    "    conv_kernel_size = 3\n",
    "    h = 28\n",
    "    w = 28\n",
    "    layer_count = len(num_filters_per_layer)\n",
    "    input_channels = 1\n",
    "    model  = nn.Sequential()\n",
    "    for i in range(layer_count):\n",
    "        conv2d = nn.Conv2d(input_channels, num_filters_per_layer[i], conv_kernel_size, stride=1, padding =0)\n",
    "        rel = nn.ReLU()\n",
    "        max_pool = nn.MaxPool2d(pool_kernel_size,stride=1)\n",
    "        input_channels = num_filters_per_layer[i]\n",
    "        model.add_module(f\"conv{i}\",conv2d)\n",
    "        model.add_module(f\"rel{i}\",rel)\n",
    "        model.add_module(f\"pool{i}\",max_pool)\n",
    "        #conv\n",
    "        h = (h-conv_kernel_size)//1 + 1\n",
    "        w = (w-conv_kernel_size)//1 + 1\n",
    "        #pooling\n",
    "        h = (h-pool_kernel_size)//1 + 1\n",
    "        w = (w-pool_kernel_size)//1 + 1\n",
    "    model.add_module(\"flat\",Flatten())\n",
    "    model.add_module(\"lin\",nn.Linear(h*w*num_filters_per_layer[-1], 10))\n",
    "    model.add_module(\"logsoftmax\",nn.LogSoftmax())\n",
    "    return model\n",
    "\n",
    "def get_configspace() -> CS.ConfigurationSpace:\n",
    "    \"\"\" Define a conditional hyperparameter search-space.\n",
    "    \n",
    "    hyperparameters:\n",
    "      lr              from 1e-6 to 1e-0 (log, float)\n",
    "      num_filters_1   from    2 to    8 (int)\n",
    "      num_filters_2   from    2 to    8 (int)\n",
    "      num_conv_layers from    1 to    2 (int)\n",
    "    \n",
    "    conditions: \n",
    "      include num_filters_2 only if num_conv_layers > 1\n",
    "    \"\"\"\n",
    "    cs = CS.ConfigurationSpace()\n",
    "    lr = UniformFloatHyperparameter(\"lr\", 1e-6, 1e-0, default_value = 1e-2, log=True)\n",
    "    cs.add_hyperparameter(lr)\n",
    "    \n",
    "    num_filters_1 = UniformIntegerHyperparameter(\"nf0\", 2, 8, default_value=3)\n",
    "    cs.add_hyperparameter(num_filters_1)\n",
    "    \n",
    "    num_conv_layers = UniformIntegerHyperparameter(\"convs\", 1, 2, default_value=1)\n",
    "    num_filters_2 = UniformIntegerHyperparameter(\"nf1\", 2, 8, default_value=3)\n",
    "    cs.add_hyperparameters([num_conv_layers, num_filters_2])\n",
    "    #cs.add_condition(InCondition(child=num_filters_2, parent = num_conv_layers, values=[2]))\n",
    "    cs.add_condition(CS.GreaterThanCondition(num_filters_2, num_conv_layers, 1))\n",
    "    return cs"
   ]
  },
  {
   "cell_type": "markdown",
   "metadata": {},
   "source": [
    "### Run model with configuration\n",
    "\n",
    "A single sample from your hyperparameter space is a *Configuration*. You can use the configuration similar to a dictionary, it supports *config.keys(), config.values(), value = config[key], key in config, …* .\n",
    "You can iterate a *DataLoader* to access (data, label) batches.\n",
    "\n",
    "**Note:** If a condition isn't met, the conditional hyperparameter isn't included in the configuration.\n",
    "\n",
    "**Task:** Complete the function to run a model like defined by the configuration. The function should return the model and the *validation error* for each epoch. You can use *evaluate_accuracy* (defined above), don't forget to switch between train and eval mode."
   ]
  },
  {
   "cell_type": "code",
   "execution_count": 47,
   "metadata": {},
   "outputs": [],
   "source": [
    "def run_conv_model(config: CS.Configuration, epochs: int, train_loader: DataLoader,\n",
    "                   validation_loader: DataLoader) -> Tuple[nn.Module, List[float]]:    \n",
    "    \"\"\" Run and evaluate a model from get_conv_model with NLLLoss and SGD.\n",
    "    \"\"\"\n",
    "    # retrieve the number of filters from the config and create the model\n",
    "    lrate = config[\"lr\"]\n",
    "    num_conv_layers = config[\"convs\"]\n",
    "    num_filters =[]\n",
    "    for i in range(num_conv_layers):\n",
    "        num_filters.append(config[f\"nf{i}\"])\n",
    "        \n",
    "    print(f\"sampled config : lr: {lrate} #fitlers: {num_filters} #conv_layers: {num_conv_layers}\")\n",
    "    model = get_conv_model(num_filters)\n",
    "    \n",
    "    # define loss and optimizer\n",
    "    loss_fn = torch.nn.NLLLoss()\n",
    "    optimizer = torch.optim.SGD(model.parameters(), lr=lrate)\n",
    "    #scheduler = torch.optim.lr_scheduler.CosineAnnealingLR(optimizer, T_max=epochs)\n",
    "    val_errors = []\n",
    "    for epoch in range(epochs):\n",
    "        for x, y in train_loader:\n",
    "            model.train()\n",
    "            optimizer.zero_grad()\n",
    "            output = model(x)\n",
    "            loss = loss_fn(output,y)\n",
    "            #print(f\"train loss for epoch {epoch} : {loss}\")\n",
    "            loss.backward()\n",
    "            optimizer.step()\n",
    "        # compute the validation loss\n",
    "        accuracy, loss = evaluate_accuracy(model, validation_loader, loss_fn)\n",
    "        val_errors.append(loss)\n",
    "        print(f\"epoch{epoch} : accracy = {accuracy}, loss = {loss}\")\n",
    "        #scheduler.step()\n",
    "    return model, val_errors"
   ]
  },
  {
   "cell_type": "markdown",
   "metadata": {},
   "source": [
    "Now let's run models with various, random hyperparameter configurations. Don't forget to store all the configuration and validation errors for further evaluation.\n",
    "\n",
    "**Tipp:** *ConfigSpace* objects have a *.sample_configuration()* function to sample a random configuration.\n",
    "\n",
    "**Task:** Run *n_random_samples* models for *n_epochs* and store the tuple `(model, config, val_errors)` in `results`."
   ]
  },
  {
   "cell_type": "code",
   "execution_count": 49,
   "metadata": {
    "scrolled": true
   },
   "outputs": [
    {
     "name": "stdout",
     "output_type": "stream",
     "text": [
      "training model #0\n",
      "sampled config : lr: 0.0002968749262192025 #fitlers: [7] #conv_layers: 1\n",
      "epoch0 : accracy = 0.263671875, loss = 2.2683193683624268\n",
      "epoch1 : accracy = 0.404296875, loss = 2.2312846183776855\n",
      "epoch2 : accracy = 0.4921875, loss = 2.1934244632720947\n",
      "epoch3 : accracy = 0.56640625, loss = 2.1532256603240967\n",
      "epoch4 : accracy = 0.607421875, loss = 2.1096854209899902\n",
      "epoch5 : accracy = 0.6484375, loss = 2.0609798431396484\n",
      "epoch6 : accracy = 0.69921875, loss = 2.0067451000213623\n",
      "epoch7 : accracy = 0.712890625, loss = 1.9460093975067139\n",
      "epoch8 : accracy = 0.73828125, loss = 1.878397822380066\n",
      "----------------------------------\n",
      "training model #1\n",
      "sampled config : lr: 1.105832294153151e-05 #fitlers: [5] #conv_layers: 1\n",
      "epoch0 : accracy = 0.087890625, loss = 2.322032928466797\n",
      "epoch1 : accracy = 0.087890625, loss = 2.321298122406006\n",
      "epoch2 : accracy = 0.087890625, loss = 2.3205738067626953\n",
      "epoch3 : accracy = 0.087890625, loss = 2.319862127304077\n",
      "epoch4 : accracy = 0.087890625, loss = 2.3191635608673096\n",
      "epoch5 : accracy = 0.0859375, loss = 2.3184735774993896\n",
      "epoch6 : accracy = 0.09375, loss = 2.3177943229675293\n",
      "epoch7 : accracy = 0.09375, loss = 2.3171274662017822\n",
      "epoch8 : accracy = 0.09375, loss = 2.3164689540863037\n",
      "----------------------------------\n",
      "training model #2\n",
      "sampled config : lr: 0.0029872632547382973 #fitlers: [6, 6] #conv_layers: 2\n",
      "epoch0 : accracy = 0.259765625, loss = 2.262572765350342\n",
      "epoch1 : accracy = 0.62890625, loss = 2.0126137733459473\n",
      "epoch2 : accracy = 0.82421875, loss = 0.7143046855926514\n",
      "epoch3 : accracy = 0.87109375, loss = 0.4585062861442566\n",
      "epoch4 : accracy = 0.87890625, loss = 0.42239299416542053\n",
      "epoch5 : accracy = 0.87109375, loss = 0.41531404852867126\n",
      "epoch6 : accracy = 0.884765625, loss = 0.37754228711128235\n",
      "epoch7 : accracy = 0.888671875, loss = 0.3689667284488678\n",
      "epoch8 : accracy = 0.88671875, loss = 0.370760440826416\n",
      "----------------------------------\n",
      "training model #3\n",
      "sampled config : lr: 0.0011426773080667257 #fitlers: [2] #conv_layers: 1\n",
      "epoch0 : accracy = 0.173828125, loss = 2.2872366905212402\n",
      "epoch1 : accracy = 0.236328125, loss = 2.261378526687622\n",
      "epoch2 : accracy = 0.34765625, loss = 2.2183783054351807\n",
      "epoch3 : accracy = 0.470703125, loss = 2.1462039947509766\n",
      "epoch4 : accracy = 0.625, loss = 2.0179147720336914\n",
      "epoch5 : accracy = 0.716796875, loss = 1.8026167154312134\n",
      "epoch6 : accracy = 0.748046875, loss = 1.5048521757125854\n",
      "epoch7 : accracy = 0.771484375, loss = 1.198144793510437\n",
      "epoch8 : accracy = 0.8046875, loss = 0.9585281014442444\n",
      "----------------------------------\n",
      "training model #4\n",
      "sampled config : lr: 0.21873298757551807 #fitlers: [7] #conv_layers: 1\n",
      "epoch0 : accracy = 0.806640625, loss = 0.6107155084609985\n",
      "epoch1 : accracy = 0.890625, loss = 0.4164649248123169\n",
      "epoch2 : accracy = 0.876953125, loss = 0.43616783618927\n",
      "epoch3 : accracy = 0.876953125, loss = 0.4217131733894348\n",
      "epoch4 : accracy = 0.888671875, loss = 0.3991003930568695\n",
      "epoch5 : accracy = 0.89453125, loss = 0.4093403220176697\n",
      "epoch6 : accracy = 0.88671875, loss = 0.43125858902931213\n",
      "epoch7 : accracy = 0.890625, loss = 0.40317004919052124\n",
      "epoch8 : accracy = 0.90625, loss = 0.3854280114173889\n",
      "----------------------------------\n",
      "training model #5\n",
      "sampled config : lr: 0.004062773285208837 #fitlers: [6, 8] #conv_layers: 2\n",
      "epoch0 : accracy = 0.759765625, loss = 1.4913256168365479\n",
      "epoch1 : accracy = 0.865234375, loss = 0.5122936964035034\n",
      "epoch2 : accracy = 0.880859375, loss = 0.4215112030506134\n",
      "epoch3 : accracy = 0.884765625, loss = 0.3967963457107544\n",
      "epoch4 : accracy = 0.857421875, loss = 0.41183486580848694\n",
      "epoch5 : accracy = 0.8828125, loss = 0.3940984010696411\n",
      "epoch6 : accracy = 0.900390625, loss = 0.35657021403312683\n",
      "epoch7 : accracy = 0.890625, loss = 0.3784096837043762\n",
      "epoch8 : accracy = 0.89453125, loss = 0.3669393062591553\n",
      "----------------------------------\n",
      "training model #6\n",
      "sampled config : lr: 0.002314657296590885 #fitlers: [5, 4] #conv_layers: 2\n",
      "epoch0 : accracy = 0.45703125, loss = 2.1940760612487793\n",
      "epoch1 : accracy = 0.759765625, loss = 1.6249927282333374\n",
      "epoch2 : accracy = 0.8203125, loss = 0.6990690231323242\n",
      "epoch3 : accracy = 0.865234375, loss = 0.48649656772613525\n",
      "epoch4 : accracy = 0.87890625, loss = 0.4258795976638794\n",
      "epoch5 : accracy = 0.87890625, loss = 0.3989185392856598\n",
      "epoch6 : accracy = 0.87109375, loss = 0.42115655541419983\n",
      "epoch7 : accracy = 0.880859375, loss = 0.3853490352630615\n",
      "epoch8 : accracy = 0.888671875, loss = 0.3664100766181946\n",
      "----------------------------------\n",
      "training model #7\n",
      "sampled config : lr: 0.2301895342574345 #fitlers: [8] #conv_layers: 1\n",
      "epoch0 : accracy = 0.91015625, loss = 0.2674001455307007\n",
      "epoch1 : accracy = 0.9453125, loss = 0.21284008026123047\n",
      "epoch2 : accracy = 0.953125, loss = 0.19173847138881683\n",
      "epoch3 : accracy = 0.9453125, loss = 0.22217810153961182\n",
      "epoch4 : accracy = 0.94140625, loss = 0.2427331507205963\n",
      "epoch5 : accracy = 0.955078125, loss = 0.19907067716121674\n",
      "epoch6 : accracy = 0.951171875, loss = 0.2150379717350006\n",
      "epoch7 : accracy = 0.94921875, loss = 0.23593461513519287\n",
      "epoch8 : accracy = 0.95703125, loss = 0.22676123678684235\n",
      "----------------------------------\n",
      "training model #8\n",
      "sampled config : lr: 0.037860800217676564 #fitlers: [2, 4] #conv_layers: 2\n",
      "epoch0 : accracy = 0.86328125, loss = 0.43345820903778076\n",
      "epoch1 : accracy = 0.875, loss = 0.4407622814178467\n",
      "epoch2 : accracy = 0.896484375, loss = 0.35199445486068726\n",
      "epoch3 : accracy = 0.91015625, loss = 0.3046485185623169\n",
      "epoch4 : accracy = 0.916015625, loss = 0.2890487313270569\n",
      "epoch5 : accracy = 0.93359375, loss = 0.2535909116268158\n",
      "epoch6 : accracy = 0.935546875, loss = 0.23402714729309082\n",
      "epoch7 : accracy = 0.939453125, loss = 0.21511723101139069\n",
      "epoch8 : accracy = 0.94140625, loss = 0.20359212160110474\n",
      "----------------------------------\n",
      "training model #9\n",
      "sampled config : lr: 1.1234012592778648e-06 #fitlers: [8] #conv_layers: 1\n",
      "epoch0 : accracy = 0.09375, loss = 2.312269687652588\n",
      "epoch1 : accracy = 0.09375, loss = 2.31199312210083\n",
      "epoch2 : accracy = 0.09375, loss = 2.3117167949676514\n",
      "epoch3 : accracy = 0.091796875, loss = 2.311440944671631\n",
      "epoch4 : accracy = 0.091796875, loss = 2.3111674785614014\n",
      "epoch5 : accracy = 0.091796875, loss = 2.310892343521118\n",
      "epoch6 : accracy = 0.091796875, loss = 2.310617446899414\n",
      "epoch7 : accracy = 0.091796875, loss = 2.3103439807891846\n",
      "epoch8 : accracy = 0.091796875, loss = 2.3100695610046387\n",
      "----------------------------------\n",
      "training model #10\n",
      "sampled config : lr: 0.24908453405124317 #fitlers: [7, 8] #conv_layers: 2\n",
      "epoch0 : accracy = 0.11328125, loss = 2.2976510524749756\n",
      "epoch1 : accracy = 0.125, loss = 2.2961208820343018\n",
      "epoch2 : accracy = 0.125, loss = 2.298233985900879\n",
      "epoch3 : accracy = 0.11328125, loss = 2.298403739929199\n",
      "epoch4 : accracy = 0.11328125, loss = 2.2971415519714355\n",
      "epoch5 : accracy = 0.125, loss = 2.2998225688934326\n",
      "epoch6 : accracy = 0.11328125, loss = 2.298166275024414\n",
      "epoch7 : accracy = 0.11328125, loss = 2.2985074520111084\n",
      "epoch8 : accracy = 0.11328125, loss = 2.2960712909698486\n",
      "----------------------------------\n",
      "training model #11\n",
      "sampled config : lr: 0.000791355661361707 #fitlers: [8] #conv_layers: 1\n",
      "epoch0 : accracy = 0.658203125, loss = 2.159684181213379\n",
      "epoch1 : accracy = 0.748046875, loss = 1.996504545211792\n",
      "epoch2 : accracy = 0.787109375, loss = 1.7885992527008057\n",
      "epoch3 : accracy = 0.80078125, loss = 1.5454211235046387\n",
      "epoch4 : accracy = 0.8125, loss = 1.298626184463501\n",
      "epoch5 : accracy = 0.822265625, loss = 1.0859895944595337\n",
      "epoch6 : accracy = 0.83203125, loss = 0.919732928276062\n",
      "epoch7 : accracy = 0.837890625, loss = 0.8001838326454163\n",
      "epoch8 : accracy = 0.84765625, loss = 0.7108734250068665\n",
      "----------------------------------\n",
      "training model #12\n",
      "sampled config : lr: 4.817978621049843e-06 #fitlers: [2, 2] #conv_layers: 2\n",
      "epoch0 : accracy = 0.125, loss = 2.302896499633789\n",
      "epoch1 : accracy = 0.125, loss = 2.3028957843780518\n",
      "epoch2 : accracy = 0.125, loss = 2.3028929233551025\n",
      "epoch3 : accracy = 0.125, loss = 2.3028907775878906\n",
      "epoch4 : accracy = 0.125, loss = 2.302889108657837\n",
      "epoch5 : accracy = 0.125, loss = 2.3028883934020996\n",
      "epoch6 : accracy = 0.125, loss = 2.3028855323791504\n",
      "epoch7 : accracy = 0.126953125, loss = 2.302882432937622\n",
      "epoch8 : accracy = 0.126953125, loss = 2.3028829097747803\n",
      "----------------------------------\n",
      "training model #13\n",
      "sampled config : lr: 0.00440203173911001 #fitlers: [4, 4] #conv_layers: 2\n"
     ]
    },
    {
     "name": "stdout",
     "output_type": "stream",
     "text": [
      "epoch0 : accracy = 0.541015625, loss = 2.207019805908203\n",
      "epoch1 : accracy = 0.787109375, loss = 0.8996695876121521\n",
      "epoch2 : accracy = 0.853515625, loss = 0.4745120406150818\n",
      "epoch3 : accracy = 0.884765625, loss = 0.42052799463272095\n",
      "epoch4 : accracy = 0.8828125, loss = 0.41735219955444336\n",
      "epoch5 : accracy = 0.89453125, loss = 0.3793322443962097\n",
      "epoch6 : accracy = 0.896484375, loss = 0.38490569591522217\n",
      "epoch7 : accracy = 0.8828125, loss = 0.39851629734039307\n",
      "epoch8 : accracy = 0.88671875, loss = 0.4025996923446655\n",
      "----------------------------------\n",
      "training model #14\n",
      "sampled config : lr: 0.0004738985186040655 #fitlers: [3] #conv_layers: 1\n",
      "epoch0 : accracy = 0.37109375, loss = 2.170907735824585\n",
      "epoch1 : accracy = 0.5625, loss = 2.031010866165161\n",
      "epoch2 : accracy = 0.7265625, loss = 1.8833063840866089\n",
      "epoch3 : accracy = 0.75, loss = 1.7242406606674194\n",
      "epoch4 : accracy = 0.77734375, loss = 1.5588207244873047\n",
      "epoch5 : accracy = 0.78125, loss = 1.3959766626358032\n",
      "epoch6 : accracy = 0.8203125, loss = 1.2464061975479126\n",
      "epoch7 : accracy = 0.833984375, loss = 1.1120821237564087\n",
      "epoch8 : accracy = 0.841796875, loss = 0.9990791082382202\n",
      "----------------------------------\n",
      "training model #15\n",
      "sampled config : lr: 0.4019429957377592 #fitlers: [2, 8] #conv_layers: 2\n",
      "epoch0 : accracy = 0.125, loss = 2.297717571258545\n",
      "epoch1 : accracy = 0.125, loss = 2.2975568771362305\n",
      "epoch2 : accracy = 0.11328125, loss = 2.300586462020874\n",
      "epoch3 : accracy = 0.11328125, loss = 2.301668643951416\n",
      "epoch4 : accracy = 0.11328125, loss = 2.2991533279418945\n",
      "epoch5 : accracy = 0.125, loss = 2.3004562854766846\n",
      "epoch6 : accracy = 0.125, loss = 2.297898054122925\n",
      "epoch7 : accracy = 0.11328125, loss = 2.2999887466430664\n",
      "epoch8 : accracy = 0.11328125, loss = 2.2986326217651367\n",
      "----------------------------------\n",
      "training model #16\n",
      "sampled config : lr: 0.043484905904949224 #fitlers: [3] #conv_layers: 1\n",
      "epoch0 : accracy = 0.890625, loss = 0.3991939127445221\n",
      "epoch1 : accracy = 0.90234375, loss = 0.32949018478393555\n",
      "epoch2 : accracy = 0.853515625, loss = 0.4521796703338623\n",
      "epoch3 : accracy = 0.923828125, loss = 0.30209583044052124\n",
      "epoch4 : accracy = 0.9296875, loss = 0.2752774655818939\n",
      "epoch5 : accracy = 0.90625, loss = 0.3288000822067261\n",
      "epoch6 : accracy = 0.93359375, loss = 0.26745280623435974\n",
      "epoch7 : accracy = 0.9375, loss = 0.239752858877182\n",
      "epoch8 : accracy = 0.931640625, loss = 0.26202529668807983\n",
      "----------------------------------\n",
      "training model #17\n",
      "sampled config : lr: 0.06759713955200376 #fitlers: [4, 8] #conv_layers: 2\n",
      "epoch0 : accracy = 0.873046875, loss = 0.3992881178855896\n",
      "epoch1 : accracy = 0.935546875, loss = 0.21615070104599\n",
      "epoch2 : accracy = 0.9375, loss = 0.21097677946090698\n",
      "epoch3 : accracy = 0.947265625, loss = 0.18512049317359924\n",
      "epoch4 : accracy = 0.943359375, loss = 0.1855315864086151\n",
      "epoch5 : accracy = 0.958984375, loss = 0.1658829301595688\n",
      "epoch6 : accracy = 0.9375, loss = 0.22527073323726654\n",
      "epoch7 : accracy = 0.9609375, loss = 0.15454943478107452\n",
      "epoch8 : accracy = 0.96484375, loss = 0.15977440774440765\n",
      "----------------------------------\n"
     ]
    }
   ],
   "source": [
    "n_random_samples = 18\n",
    "n_epochs = 9\n",
    "cs = get_configspace()\n",
    "\n",
    "train_loader, validation_loader, _ = load_mnist_minibatched(batch_size=32, n_train=4096, n_valid=512)\n",
    "results = []\n",
    "for i in range(n_random_samples):\n",
    "    print(f\"training model #{i}\")\n",
    "    cfg = cs.sample_configuration()\n",
    "    model, val_errors = run_conv_model(cfg, n_epochs, train_loader, validation_loader)\n",
    "    results.append((model,cfg,val_errors))\n",
    "    print(\"----------------------------------\")\n"
   ]
  },
  {
   "cell_type": "markdown",
   "metadata": {},
   "source": [
    "### Evaluate \n",
    "\n",
    "Now we should evaluate the previous runs. Evaluation in hyperparameter optimization can mean two different things: On the one hand, we might be only interested in the model with the best performance. On the other hand, we might want to find the best hyperparameter configuration to then train a model with these hyper-parameters (but with e.g. more epochs).\n",
    "\n",
    "**Task:** Print the model and final validation error of the best model in `results`."
   ]
  },
  {
   "cell_type": "code",
   "execution_count": 55,
   "metadata": {},
   "outputs": [
    {
     "name": "stdout",
     "output_type": "stream",
     "text": [
      "sampled config : lr: 0.06759713955200376 #fitlers: [4, 8] #conv_layers: 2\n",
      "model #17 error : 0.15977440774440765\n",
      "1 -> ('conv0', Conv2d(1, 4, kernel_size=(3, 3), stride=(1, 1)))\n",
      "2 -> ('rel0', ReLU())\n",
      "3 -> ('pool0', MaxPool2d(kernel_size=2, stride=1, padding=0, dilation=1, ceil_mode=False))\n",
      "4 -> ('conv1', Conv2d(4, 8, kernel_size=(3, 3), stride=(1, 1)))\n",
      "5 -> ('rel1', ReLU())\n",
      "6 -> ('pool1', MaxPool2d(kernel_size=2, stride=1, padding=0, dilation=1, ceil_mode=False))\n",
      "7 -> ('flat', Flatten())\n",
      "8 -> ('lin', Linear(in_features=3872, out_features=10, bias=True))\n",
      "9 -> ('logsoftmax', LogSoftmax())\n"
     ]
    }
   ],
   "source": [
    "# START TODO ################\n",
    "\n",
    "# END TODO ################\n",
    "#for idx, m in enumerate(model.named_modules()):\n",
    "    #    if idx==0: continue\n",
    "    #    print(idx, '->', m)\n",
    "min_loss = 1000\n",
    "index = 0\n",
    "for i in range(len(results)):\n",
    "    model, cfg , val_error = results[i]\n",
    "    if (val_error[-1] < min_loss):\n",
    "        min_loss = val_error[-1]\n",
    "        index = i\n",
    "        \n",
    "\n",
    "best_model, best_cfg, best_error = results[index]\n",
    "lrate =  best_cfg[\"lr\"]\n",
    "num_conv_layers = best_cfg[\"convs\"]\n",
    "num_filters =[]\n",
    "for i in range(num_conv_layers):\n",
    "    num_filters.append(best_cfg[f\"nf{i}\"])\n",
    "print(f\"sampled config : lr: {lrate} #fitlers: {num_filters} #conv_layers: {num_conv_layers}\")\n",
    "print(f\"model #{index} error : {best_error[-1]}\")\n",
    "for idx, m in enumerate(best_model.named_modules()):\n",
    "    if idx==0: continue\n",
    "    print(idx, '->', m)\n",
    "        "
   ]
  },
  {
   "cell_type": "markdown",
   "metadata": {},
   "source": [
    "Let's further investigate which hyperparameters work well and which don't.\n",
    "\n",
    "**Task:** Print a scatter plot of learning rate (x) and number of filters (sum over layers, y). Scale the size of the scatter points by the error in the last epoch (10 to 100)."
   ]
  },
  {
   "cell_type": "code",
   "execution_count": 66,
   "metadata": {},
   "outputs": [
    {
     "data": {
      "image/png": "[encoded data removed]",
      "text/plain": [
       "<Figure size 432x288 with 1 Axes>"
      ]
     },
     "metadata": {
      "needs_background": "light"
     },
     "output_type": "display_data"
    }
   ],
   "source": [
    "# START TODO ################\n",
    "\n",
    "\n",
    "plt.figure(1)\n",
    "plt.xscale('log')\n",
    "for i in range(len(results)):\n",
    "    model, cfg , val_error = results[i]   \n",
    "    lrate =  cfg[\"lr\"]\n",
    "    num_conv_layers = cfg[\"convs\"]\n",
    "    num_filters =[]\n",
    "    for i in range(num_conv_layers):\n",
    "        num_filters.append(cfg[f\"nf{i}\"])\n",
    "    num_filters = np.sum(num_filters)\n",
    "    plt.scatter(lrate,num_filters,s=50*val_error[-1])\n",
    "# END TODO ################"
   ]
  },
  {
   "cell_type": "markdown",
   "metadata": {},
   "source": [
    "**Question:** What pattern do you see? Why might it occur?\n",
    "\n",
    "**Answer:** **TODO** "
   ]
  },
  {
   "cell_type": "markdown",
   "metadata": {},
   "source": [
    "After looking at the final error, let's now have a look at the training error.\n",
    "\n",
    "**Task:** Plot error curves (error per epoch) for all your configurations in one figure."
   ]
  },
  {
   "cell_type": "code",
   "execution_count": 69,
   "metadata": {},
   "outputs": [
    {
     "data": {
      "image/png": "[encoded data removed]",
      "text/plain": [
       "<Figure size 432x288 with 1 Axes>"
      ]
     },
     "metadata": {
      "needs_background": "light"
     },
     "output_type": "display_data"
    }
   ],
   "source": [
    "# START TODO ################\n",
    "\n",
    "plt.figure(2)\n",
    "plt.xlabel('epochs')\n",
    "plt.ylabel('Model')\n",
    "\n",
    "for i in range(len(results)):\n",
    "    _, _ , val_error = results[i]   \n",
    "    \n",
    "    \n",
    "    plt.plot(val_error)\n",
    "# END TODO ################\n",
    "\n",
    "# END TODO ################"
   ]
  },
  {
   "cell_type": "markdown",
   "metadata": {},
   "source": [
    "**Questions:** How could you detect configurations with a low error earlier/faster? Why could this be problematic? \n",
    "\n",
    "**Answers:** **TODO** "
   ]
  },
  {
   "cell_type": "markdown",
   "metadata": {},
   "source": [
    "### Your Feedback on Exercise 6.1"
   ]
  },
  {
   "cell_type": "markdown",
   "metadata": {},
   "source": [
    "## BOHB\n",
    "\n",
    "Here we will use the more advanced hyperparameter optimizer [BOHB](https://www.automl.org/blog_bohb/) (Bayesian Optimization with Hyperband).\n",
    "Based on [Hyperband](https://arxiv.org/pdf/1603.06560.pdf), BOHB evaluates configurations on your model with increasing budgets. In the context of Deep Learning, budget can be the number of epochs or the number of training samples. In lower budget evaluations, BOHB can look at more configurations. Full budget evaluations avoid missing configurations which are poor at the beginnning but good at the end (and vice versa). \n",
    "At the start of a run, BOHB samples configurations randomly. After some time, BOHB then uses a bayesian model (based on Parzen Tree Estimators), sampling only promising configs.\n",
    "\n",
    "This exercise part is based on the [HpBandSter Examples](https://automl.github.io/HpBandSter/build/html/auto_examples/index.html) and the [HpBandSter Documentation](https://automl.github.io/HpBandSter/). *HpBandSter* provides a fast implementation of *Randomsearch*, *Hyperband* and *BOHB*. The optimization can easily be distributed between multiple cores or even multiple computers."
   ]
  },
  {
   "cell_type": "code",
   "execution_count": 1,
   "metadata": {},
   "outputs": [],
   "source": [
    "import pickle\n",
    "import logging\n",
    "\n",
    "from hpbandster.core.worker import Worker\n",
    "import hpbandster.core.nameserver as hpns\n",
    "import hpbandster.core.result as hpres\n",
    "from hpbandster.optimizers import BOHB\n",
    "\n",
    "logging.getLogger('hpbandster').setLevel(logging.DEBUG)"
   ]
  },
  {
   "cell_type": "markdown",
   "metadata": {},
   "source": [
    "### Implement Worker\n",
    "\n",
    "The worker defines the hyperparameter problem which we try to optimize.\n",
    "*compute(...)* should - for a given configuration and budget - return a loss which the hyperparameter optimizer tries to minimize. In our case, we can use the number of epochs as budget and the validation error as loss. \n",
    "As best practice, we define the configuration space also in the worker.\n",
    "\n",
    "If you need help, you might get some inspiration from the [HpBandSter Pytorch Worker Example](https://automl.github.io/HpBandSter/build/html/auto_examples/example_5_pytorch_worker.html#sphx-glr-auto-examples-example-5-pytorch-worker-py).\n",
    "\n",
    "**Task:** Complete the methods below."
   ]
  },
  {
   "cell_type": "code",
   "execution_count": null,
   "metadata": {},
   "outputs": [],
   "source": [
    "class PyTorchWorker(Worker):\n",
    "    def __init__(self, **kwargs):\n",
    "        super().__init__(**kwargs)\n",
    "        self.train_loader, self.validation_loader, self.test_loader =\\\n",
    "            load_mnist_minibatched(batch_size=32, n_train=4096, n_valid=512)\n",
    "\n",
    "    @staticmethod\n",
    "    def get_model(config: CS.Configuration) -> nn.Module:\n",
    "        \"\"\" Define a configurable convolution model.\n",
    "            \n",
    "        See description of get_conv_model above for more details on the model.\n",
    "        \"\"\"\n",
    "        # START TODO ################\n",
    "        raise NotImplementedError\n",
    "  \n",
    "        # END TODO ################\n",
    "        \n",
    "    @staticmethod\n",
    "    def get_configspace() -> CS.Configuration:\n",
    "        \"\"\" Define a conditional hyperparameter search-space.\n",
    "    \n",
    "        hyperparameters:\n",
    "          num_filters_1   from    4 to   32 (int)\n",
    "          num_filters_2   from    4 to   32 (int)\n",
    "          num_filters_3   from    4 to   32 (int)\n",
    "          num_conv_layers from    1 to    3 (int)\n",
    "          lr              from 1e-6 to 1e-1 (float, log)\n",
    "          sgd_momentum    from 0.00 to 0.99 (float)\n",
    "          optimizer            Adam or  SGD (categoric)\n",
    "          \n",
    "        conditions: \n",
    "          include num_filters_2 only if num_conv_layers > 1\n",
    "          include num_filters_3 only if num_conv_layers > 2\n",
    "          include sgd_momentum  only if       optimizer = SGD\n",
    "        \"\"\"\n",
    "        # START TODO ################\n",
    "        raise NotImplementedError\n",
    "  \n",
    "        # END TODO ################\n",
    "\n",
    "    def compute(self, config: CS.Configuration, budget: float, working_directory: str,\n",
    "                *args, **kwargs) -> float:\n",
    "        \"\"\"Evaluate a function with the given config and budget and return a loss.\n",
    "        \n",
    "        Bohb tries to minimize the returned loss.\n",
    "        \n",
    "        In our case the function is the training and validation of a model,\n",
    "        the budget is the number of epochs and the loss is the validation error.\n",
    "        \"\"\"\n",
    "        model = self.get_model(config)\n",
    "        \n",
    "        # START TODO ################\n",
    "\n",
    "        # END TODO ################\n",
    "        \n",
    "        train_accuracy = evaluate_accuracy(model, self.train_loader)\n",
    "        validation_accuracy = evaluate_accuracy(model, self.validation_loader)\n",
    "        test_accuracy = evaluate_accuracy(model, self.test_loader)\n",
    "        \n",
    "        return ({\n",
    "                'loss': 1 - validation_accuracy,  # remember: HpBandSter minimizes the loss!\n",
    "                'info': {'test_accuracy': test_accuracy,\n",
    "                         'train_accuracy': train_accuracy,\n",
    "                         'valid_accuracy': validation_accuracy,\n",
    "                         'model': str(model)}\n",
    "                })\n",
    "\n",
    "   "
   ]
  },
  {
   "cell_type": "markdown",
   "metadata": {},
   "source": [
    "It's best practice to do a quick sanity check of our worker with a low budget:"
   ]
  },
  {
   "cell_type": "code",
   "execution_count": null,
   "metadata": {},
   "outputs": [],
   "source": [
    "working_dir = os.curdir\n",
    "# minimum budget that BOHB uses\n",
    "min_budget = 1\n",
    "# largest budget BOHB will use\n",
    "max_budget = 9"
   ]
  },
  {
   "cell_type": "code",
   "execution_count": null,
   "metadata": {},
   "outputs": [],
   "source": [
    "worker = PyTorchWorker(run_id='0')\n",
    "cs = worker.get_configspace()\n",
    "\n",
    "config = cs.sample_configuration().get_dictionary()\n",
    "print(config)\n",
    "\n",
    "res = worker.compute(config=config, budget=min_budget, working_directory=working_dir)\n",
    "print(res)"
   ]
  },
  {
   "cell_type": "markdown",
   "metadata": {},
   "source": [
    "### Run BOHB\n",
    "\n",
    "We now run the hyperparameter search with BOHB and the worker which we defined above and save the result to disk. \n",
    "Try to understand what happens. *HpBandSter* allows to start additional workers on the same or remote devices to parallelize the executions, that's why we need to setup some network stuff (nameserver, nic, host, port, …). If you're interested, you can check this out in the [HpBandSter Examples](https://automl.github.io/HpBandSter/build/html/auto_examples/index.html), but it is beyond the scope of this exercise.\n",
    "\n",
    "**Note:** The code below will try 60 different configurations. Some of them are executed at multiple budgets, which results in about 80 model training. Therefore it might take a while (15-45 minutes on a laptop). If you are interested in how BOHB works, checkout [BOHB (Falkner et al. 2018)](http://proceedings.mlr.press/v80/falkner18a.html).\n",
    "\n",
    "**Note 2:** You can see the progress in the debug output below. The configuration identifier (called `config_id` in the docs) is a three-tuple `(current iteration, resampling in case of error, sample)`. "
   ]
  },
  {
   "cell_type": "code",
   "execution_count": null,
   "metadata": {},
   "outputs": [],
   "source": [
    "result_file = os.path.join(working_dir, 'bohb_result.pkl')\n",
    "nic_name = 'lo'\n",
    "port = 0\n",
    "run_id = 'bohb_run_1'\n",
    "n_bohb_iterations = 12"
   ]
  },
  {
   "cell_type": "code",
   "execution_count": null,
   "metadata": {},
   "outputs": [],
   "source": [
    "try:\n",
    "    # Start a nameserver\n",
    "    host = hpns.nic_name_to_host(nic_name)\n",
    "    ns = hpns.NameServer(run_id=run_id, host=host, port=port,\n",
    "                         working_directory=working_dir)\n",
    "    ns_host, ns_port = ns.start()\n",
    "\n",
    "    # Start local worker\n",
    "    w = PyTorchWorker(run_id=run_id, host=host, nameserver=ns_host,\n",
    "                      nameserver_port=ns_port, timeout=120)\n",
    "    w.run(background=True)\n",
    "\n",
    "    # Run an optimizer\n",
    "    bohb = BOHB(configspace=worker.get_configspace(),\n",
    "                run_id=run_id,\n",
    "                host=host,\n",
    "                nameserver=ns_host,\n",
    "                nameserver_port=ns_port,\n",
    "                min_budget=min_budget, max_budget=max_budget)\n",
    "    \n",
    "    result = bohb.run(n_iterations=n_bohb_iterations)\n",
    "    print(\"Write result to file {}\".format(result_file))\n",
    "    with open(result_file, 'wb') as f:\n",
    "        pickle.dump(result, f)\n",
    "finally:\n",
    "    bohb.shutdown(shutdown_workers=True)\n",
    "    ns.shutdown()"
   ]
  },
  {
   "cell_type": "markdown",
   "metadata": {},
   "source": [
    "### Evaluate result\n",
    "\n",
    "The result object which we dumped to disk contains all the runs with the different configurations.\n",
    "Here we will analyse it further. The [HpBandSter Analysis Example](https://automl.github.io/HpBandSter/build/html/auto_examples/plot_example_6_analysis.html) is there, if you need help."
   ]
  },
  {
   "cell_type": "code",
   "execution_count": null,
   "metadata": {},
   "outputs": [],
   "source": [
    "#  load a saved result object if necessary\n",
    "with open(result_file, 'rb') as f:\n",
    "    result = pickle.load(f)"
   ]
  },
  {
   "cell_type": "markdown",
   "metadata": {},
   "source": [
    "**Task:** Print the model of the best run, evaluated on the largest budget, with it's final validation error. *Tipp:* Have a look at the [HpBandSter Result Docs](https://automl.github.io/HpBandSter/build/html/core/result.html)."
   ]
  },
  {
   "cell_type": "code",
   "execution_count": null,
   "metadata": {},
   "outputs": [],
   "source": [
    "# START TODO ################\n",
    "\n",
    "# END TODO ################"
   ]
  },
  {
   "cell_type": "markdown",
   "metadata": {},
   "source": [
    "We can gain deeper insight through plotting results. Thanks to the [HpBandSter Visualization Module](https://automl.github.io/HpBandSter/build/html/core/visualization.html) plotting is a one-liner."
   ]
  },
  {
   "cell_type": "code",
   "execution_count": null,
   "metadata": {},
   "outputs": [],
   "source": [
    "import hpbandster.visualization as hpvis\n",
    "\n",
    "all_runs = result.get_all_runs()\n",
    "id2conf = result.get_id2config_mapping()"
   ]
  },
  {
   "cell_type": "markdown",
   "metadata": {},
   "source": [
    "First let's see, if we really can evaluate more configurations when makeing use of low budget runs.\n",
    "\n",
    "**Task:** Plot the finished runs over time. How many runs per minute did finish for the individual budgets (only approximately)? \n",
    "\n",
    "**Answer:** **TODO** "
   ]
  },
  {
   "cell_type": "code",
   "execution_count": null,
   "metadata": {},
   "outputs": [],
   "source": [
    "# START TODO ##################\n"
   ]
  },
  {
   "cell_type": "markdown",
   "metadata": {},
   "source": [
    "Evaluating configurations on lower budgets doesn't make sense - even if they are faster - if the performance ranking isn't consistent from low to high budget. This means, that the loss rankings for configurations should correlate. In simplified terms: The best configuration after one epoch should also be the best after nine epochs, the second best should stay the second best and so on.\n",
    "\n",
    "**Task:** Plot correlations of rankings across budgets. Are the correlations high enough?\n",
    "\n",
    "**Answer:** **TODO** "
   ]
  },
  {
   "cell_type": "code",
   "execution_count": null,
   "metadata": {},
   "outputs": [],
   "source": [
    "# START TODO ##################\n"
   ]
  },
  {
   "cell_type": "markdown",
   "metadata": {},
   "source": [
    "We usually assume, that training on a higher budget (number of epochs) and sampling more configurations can lead to better results. Let's check this.\n",
    "\n",
    "**Task:** Plot the losses over time. Do our assumptions hold true? Why?\n",
    "\n",
    "**Answer:** **TODO**    "
   ]
  },
  {
   "cell_type": "code",
   "execution_count": null,
   "metadata": {},
   "outputs": [],
   "source": [
    "# START TODO ##################\n"
   ]
  },
  {
   "cell_type": "markdown",
   "metadata": {},
   "source": [
    "Remember that BOHB uses a model after some time to improve the configuation sampling. We can check, if the BO-sampled configurations work better than the random-sampled.\n",
    "\n",
    "**Task:** Plot loss histograms for all budgets only with BO-sampled and only with random-sampled configurations (6 histograms). Is the BO-sampling useful?\n",
    "\n",
    "**Answer:** **TODO**"
   ]
  },
  {
   "cell_type": "code",
   "execution_count": null,
   "metadata": {},
   "outputs": [],
   "source": [
    "# START TODO ##################\n"
   ]
  },
  {
   "cell_type": "markdown",
   "metadata": {},
   "source": [
    "### Your Feedback on Exercise 6.2\n"
   ]
  }
 ],
 "metadata": {
  "kernelspec": {
   "display_name": "Python 3",
   "language": "python",
   "name": "python3"
  },
  "language_info": {
   "codemirror_mode": {
    "name": "ipython",
    "version": 3
   },
   "file_extension": ".py",
   "mimetype": "text/x-python",
   "name": "python",
   "nbconvert_exporter": "python",
   "pygments_lexer": "ipython3",
   "version": "3.6.6"
  }
 },
 "nbformat": 4,
 "nbformat_minor": 2
}
