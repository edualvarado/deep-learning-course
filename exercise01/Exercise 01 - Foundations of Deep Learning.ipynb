{
 "cells": [
  {
   "cell_type": "markdown",
   "metadata": {},
   "source": [
    "---\n",
    "<h1><center>Foundations of Deep Learning</center></h1>\n",
    "<center>Winter Semester 2017/2018</center>\n",
    "\n",
    "\n",
    "---\n",
    "<center>Group members:</center>\n",
    "<center>October 17, 2018</center>\n",
    "\n",
    "---\n",
    "<h2><center>Exercise 01</center></h2>"
   ]
  },
  {
   "cell_type": "markdown",
   "metadata": {},
   "source": [
    "2) **Eigenvalue Decomposition**\n",
    "\n",
    "Given the matrix\n",
    "\n",
    "\\begin{equation*}\n",
    "A = \n",
    "\\frac{1}{4} \\begin{bmatrix}\n",
    "7 & -\\sqrt{3} \\\\\n",
    "-\\sqrt{3} & 5\n",
    "\\end{bmatrix}\n",
    "\\end{equation*}"
   ]
  },
  {
   "cell_type": "markdown",
   "metadata": {},
   "source": [
    "(a) Compute the eigenvalue decomposition $A = \\begin{equation} Q \\Lambda Q^{T}\\end{equation}$ with $\\Lambda = diag(\\lambda_1, \\lambda_2)$"
   ]
  },
  {
   "cell_type": "code",
   "execution_count": null,
   "metadata": {},
   "outputs": [],
   "source": []
  },
  {
   "cell_type": "markdown",
   "metadata": {},
   "source": [
    "(b) Show that the columns of $Q$ are orthonormal, i.e. the columns are of unit length and orthogonal."
   ]
  },
  {
   "cell_type": "code",
   "execution_count": null,
   "metadata": {},
   "outputs": [],
   "source": []
  },
  {
   "cell_type": "markdown",
   "metadata": {},
   "source": [
    "(c) Show that the matrix $Q\\Lambda^{-1}Q^T$ with $\\Lambda^{-1} = diag(\\lambda_1^{-1}, \\lambda_2^{-1})$ is the inverse of $A$"
   ]
  },
  {
   "cell_type": "code",
   "execution_count": null,
   "metadata": {},
   "outputs": [],
   "source": []
  },
  {
   "cell_type": "markdown",
   "metadata": {},
   "source": [
    "(d) For course improvements, we would like your feedback about this question. At least tell us how\n",
    "much time you did invest, if you had major problems and if you think it’s useful."
   ]
  },
  {
   "cell_type": "code",
   "execution_count": null,
   "metadata": {},
   "outputs": [],
   "source": []
  },
  {
   "cell_type": "markdown",
   "metadata": {},
   "source": [
    "3) **Matrix inversion**\n",
    "\n",
    "Given the matrix\n",
    "\n",
    "\\begin{equation*}\n",
    "A = \n",
    "\\begin{bmatrix}\n",
    "3 & 4 \\\\\n",
    "6 & 13\n",
    "\\end{bmatrix}\n",
    "\\end{equation*}"
   ]
  },
  {
   "cell_type": "markdown",
   "metadata": {},
   "source": [
    "(a) Compute the LU decomposition of it, i.e. $A = L \\cdot U$, where $L$ is a lowertriangular matrix and $U$ is an uppertriangular matrix. Use this decomposition to solve $A \\cdot x = b$ with $b = (1,2)^{T}$ via forward\n",
    "and backward substitution."
   ]
  },
  {
   "cell_type": "code",
   "execution_count": null,
   "metadata": {},
   "outputs": [],
   "source": []
  },
  {
   "cell_type": "markdown",
   "metadata": {},
   "source": [
    "(b) Use Gauss elimination to explicitly calculate the inverse of $A$ and show that it yields the same solution $x = A^{-1} \\cdot b$ from part (a)."
   ]
  },
  {
   "cell_type": "code",
   "execution_count": null,
   "metadata": {},
   "outputs": [],
   "source": []
  },
  {
   "cell_type": "markdown",
   "metadata": {},
   "source": [
    "(c) For course improvements, we would like your feedback about this question. At least tell us how\n",
    "much time you did invest, if you had major problems and if you think it’s useful."
   ]
  },
  {
   "cell_type": "code",
   "execution_count": null,
   "metadata": {},
   "outputs": [],
   "source": []
  },
  {
   "cell_type": "markdown",
   "metadata": {},
   "source": [
    "4) **Vector Norms**\n",
    "\n",
    "The length of a vector is not a single number but can be defined in different ways. These vector norms\n",
    "share common properties but also have different characteristics.\n"
   ]
  },
  {
   "cell_type": "markdown",
   "metadata": {},
   "source": [
    "(a) Compute the $\\left\\lVert \\cdot \\right\\rVert_1$, $\\left\\lVert \\cdot \\right\\rVert_2$, $\\left\\lVert \\cdot \\right\\rVert_8$ and $\\left\\lVert \\cdot \\right\\rVert_\\infty$ norms of the following vectors:\n",
    "\n",
    "\n",
    "$x_1 = \\begin{bmatrix} 24  \\\\ 3 \\\\ 2 \\\\ 31 \\end{bmatrix}$\n",
    ",\n",
    "$x_2 = \\begin{bmatrix} 27  \\\\ 20 \\\\ 26 \\\\ 21 \\end{bmatrix}$\n",
    ",\n",
    "$x_3 = \\begin{bmatrix} 30  \\\\ 21 \\\\ 27 \\\\ 5 \\end{bmatrix}$\n",
    "and\n",
    "$x_4 = \\begin{bmatrix} 26  \\\\ 28 \\\\ 25 \\\\ 14 \\end{bmatrix}$\n",
    "\n"
   ]
  },
  {
   "cell_type": "code",
   "execution_count": null,
   "metadata": {},
   "outputs": [],
   "source": []
  },
  {
   "cell_type": "markdown",
   "metadata": {},
   "source": [
    "(b) Draw the set of points with $\\left\\lVert x \\right\\rVert_i = 1$ for $i \\in \\left\\{ 1, 2, 8, \\infty \\right\\}$ and $x \\in \\mathbb{R}^{2}$"
   ]
  },
  {
   "cell_type": "code",
   "execution_count": null,
   "metadata": {},
   "outputs": [],
   "source": []
  },
  {
   "cell_type": "markdown",
   "metadata": {},
   "source": [
    "(c) For course improvements, we would like your feedback about this question. At least tell us how\n",
    "much time you did invest, if you had major problems and if you think it’s useful."
   ]
  },
  {
   "cell_type": "code",
   "execution_count": null,
   "metadata": {},
   "outputs": [],
   "source": []
  },
  {
   "cell_type": "markdown",
   "metadata": {},
   "source": [
    "5) **Special Orthorgonal Matrices**\n",
    "\n",
    "A very important class of matrices are the special orthogonal group _SO(n)_. These matrices are charac-\n",
    "terized by a unit determinant and correspond to rotations around the origin."
   ]
  },
  {
   "cell_type": "markdown",
   "metadata": {},
   "source": [
    "(a) Given the matrix\n",
    "\n",
    "\\begin{equation*}\n",
    "A = \n",
    "\\frac{1}{4} \\begin{bmatrix}\n",
    "7 & \\sqrt{3} \\\\\n",
    "\\sqrt{3} & 5\n",
    "\\end{bmatrix}\n",
    "\\end{equation*}\n",
    "\n",
    "compute $det(A), Tr(A) and its eigenvalues."
   ]
  },
  {
   "cell_type": "code",
   "execution_count": null,
   "metadata": {},
   "outputs": [],
   "source": []
  },
  {
   "cell_type": "markdown",
   "metadata": {},
   "source": [
    "(b) The matrix\n",
    "\n",
    "\\begin{equation*}\n",
    "Q(\\alpha) = \n",
    "\\begin{bmatrix}\n",
    "\\cos(\\alpha) & -\\sin(\\alpha) \\\\\n",
    "\\sin(\\alpha) & \\cos(\\alpha)\n",
    "\\end{bmatrix}\n",
    "\\end{equation*}\n",
    "\n",
    "represents a rotation around an axis by the angle $\\alpha$. Compute $A´ = Q \\cdot A \\cdot Q^{T}, det(A´), Tr(A´)$ and its eigenvalues for $\\alpha = \\pi/12$"
   ]
  },
  {
   "cell_type": "code",
   "execution_count": null,
   "metadata": {},
   "outputs": [],
   "source": []
  },
  {
   "cell_type": "markdown",
   "metadata": {},
   "source": [
    "(c) What would $A´$ be for $\\alpha = \\pi/3$"
   ]
  },
  {
   "cell_type": "code",
   "execution_count": null,
   "metadata": {},
   "outputs": [],
   "source": []
  },
  {
   "cell_type": "markdown",
   "metadata": {},
   "source": [
    "(d) For course improvements, we would like your feedback about this question. At least tell us how\n",
    "much time you did invest, if you had major problems and if you think it’s useful."
   ]
  },
  {
   "cell_type": "code",
   "execution_count": null,
   "metadata": {},
   "outputs": [],
   "source": []
  }
 ],
 "metadata": {
  "kernelspec": {
   "display_name": "Python 3",
   "language": "python",
   "name": "python3"
  },
  "language_info": {
   "codemirror_mode": {
    "name": "ipython",
    "version": 3
   },
   "file_extension": ".py",
   "mimetype": "text/x-python",
   "name": "python",
   "nbconvert_exporter": "python",
   "pygments_lexer": "ipython3",
   "version": "3.5.2"
  }
 },
 "nbformat": 4,
 "nbformat_minor": 2
}
