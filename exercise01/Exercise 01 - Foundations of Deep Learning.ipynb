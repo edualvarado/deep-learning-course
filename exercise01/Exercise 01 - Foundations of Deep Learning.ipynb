{
 "cells": [
  {
   "cell_type": "markdown",
   "metadata": {},
   "source": [
    "---\n",
    "<h1><center>Foundations of Deep Learning</center></h1>\n",
    "<center>Winter Semester 2017/2018</center>\n",
    "\n",
    "\n",
    "---\n",
    "<center>Group members:</center>\n",
    "<center>October 17, 2018</center>\n",
    "\n",
    "---\n",
    "<h2><center>Exercise 01</center></h2>"
   ]
  },
  {
   "cell_type": "markdown",
   "metadata": {},
   "source": [
    "2) **Eigenvalue Decomposition**\n",
    "\n",
    "Given the matrix\n",
    "\n",
    "\\begin{equation*}\n",
    "A = \n",
    "\\frac{1}{4} \\begin{bmatrix}\n",
    "7 & -\\sqrt{3} \\\\\n",
    "-\\sqrt{3} & 5\n",
    "\\end{bmatrix}\n",
    "\\end{equation*}"
   ]
  },
  {
   "cell_type": "markdown",
   "metadata": {},
   "source": [
    "(a) Compute the eigenvalue decomposition $A = \\begin{equation} Q \\Lambda Q^{T}\\end{equation}$ with $\\Lambda = diag(\\lambda_1, \\lambda_2)$"
   ]
  },
  {
   "cell_type": "code",
   "execution_count": 9,
   "metadata": {},
   "outputs": [
    {
     "name": "stdout",
     "output_type": "stream",
     "text": [
      "Matrix A:  [[ 1.75      -0.4330127]\n",
      " [-0.4330127  1.25     ]]\n",
      "\n",
      "Eigenvalues of A:  [2. 1.]\n",
      "Eigenvectors of A: \n",
      "[[ 0.8660254]\n",
      " [-0.5      ]]\n",
      "[[0.5      ]\n",
      " [0.8660254]]\n",
      "\n",
      "Reconstructed Matrix B:  [[ 1.75      -0.4330127]\n",
      " [-0.4330127  1.25     ]]\n"
     ]
    }
   ],
   "source": [
    "import numpy as np\n",
    "from numpy import diag, dot, inf\n",
    "from numpy.linalg import eig, inv, norm\n",
    "\n",
    "# Define matrix\n",
    "A = (1/4) * np.matrix([[7, -np.sqrt(3)],[-np.sqrt(3), 5]])\n",
    "print(\"Matrix A: \", A)\n",
    "print()\n",
    "\n",
    "# Calculate eigendecomposition\n",
    "w, v = eig(A)\n",
    "print(\"Eigenvalues of A: \", w)\n",
    "print(\"Eigenvectors of A: \")\n",
    "print(v[:,0])\n",
    "print(v[:,1])\n",
    "print()\n",
    "\n",
    "# Define elements for eigendecomposition\n",
    "Q = v\n",
    "Q_inv = inv(Q)\n",
    "L = diag(w)\n",
    "\n",
    "\n",
    "# Reconstruct original matrix A\n",
    "B = Q.dot(L).dot(Q_inv)\n",
    "print(\"Reconstructed Matrix B: \", B)\n",
    "\n",
    "# Confirm first eigenvector (B and C should be the same) -> For feedback\n",
    "B = A.dot(v[:, 0])\n",
    "C = v[:, 0] * w[0]"
   ]
  },
  {
   "cell_type": "markdown",
   "metadata": {},
   "source": [
    "(b) Show that the columns of $Q$ are orthonormal, i.e. the columns are of unit length and orthogonal."
   ]
  },
  {
   "cell_type": "code",
   "execution_count": 18,
   "metadata": {},
   "outputs": [
    {
     "name": "stdout",
     "output_type": "stream",
     "text": [
      "[[1. 0.]\n",
      " [0. 1.]]\n",
      "\n",
      "Vector:  [[0.96592583]\n",
      " [0.25881905]]\n",
      "Vector norm:  1.0\n",
      "Vector:  [[-0.25881905]\n",
      " [ 0.96592583]]\n",
      "Vector norm:  1.0\n",
      "[[ 0.57735027 -1.73205081]\n",
      " [ 1.          1.        ]]\n"
     ]
    }
   ],
   "source": [
    "# Define transpose of Q\n",
    "Q_trans = Q.transpose()\n",
    "\n",
    "# For orthogonal matrices, multiplication of a matrix by its transpose results in the identity matrix \n",
    "print(np.matmul(Q, Q_trans))\n",
    "print()\n",
    "\n",
    "# Check if each eigenvector has module 1\n",
    "for i in range(Q.shape[0]):\n",
    "    print(\"Vector: \", Q[:,i])\n",
    "    print(\"Vector norm: \", norm(Q[:,i]))\n",
    "    i += 1\n",
    "    \n",
    "##\n",
    "\n",
    "B = np.matrix([[(np.sqrt(3)/3), -np.sqrt(3)],[1, 1]])\n",
    "print(B)\n"
   ]
  },
  {
   "cell_type": "markdown",
   "metadata": {},
   "source": [
    "(c) Show that the matrix $Q\\Lambda^{-1}Q^T$ with $\\Lambda^{-1} = diag(\\lambda_1^{-1}, \\lambda_2^{-1})$ is the inverse of $A$"
   ]
  },
  {
   "cell_type": "code",
   "execution_count": 3,
   "metadata": {},
   "outputs": [
    {
     "name": "stdout",
     "output_type": "stream",
     "text": [
      "[[0.625      0.21650635]\n",
      " [0.21650635 0.875     ]]\n",
      "\n",
      "Invese of A:  [[0.625      0.21650635]\n",
      " [0.21650635 0.875     ]]\n"
     ]
    }
   ],
   "source": [
    "# Define inverse of Lambda\n",
    "L_inv = inv(L)\n",
    "\n",
    "# Showing that this matrix...\n",
    "print(Q.dot(L_inv).dot(Q_trans))\n",
    "print()\n",
    "\n",
    "# ...is equal to the inverse of A\n",
    "print(\"Invese of A: \", inv(A))\n"
   ]
  },
  {
   "cell_type": "markdown",
   "metadata": {},
   "source": [
    "(d) For course improvements, we would like your feedback about this question. At least tell us how\n",
    "much time you did invest, if you had major problems and if you think it’s useful."
   ]
  },
  {
   "cell_type": "markdown",
   "metadata": {},
   "source": [
    "-> Write feedback from (a)"
   ]
  },
  {
   "cell_type": "markdown",
   "metadata": {},
   "source": [
    "3) **Matrix inversion**\n",
    "\n",
    "Given the matrix\n",
    "\n",
    "\\begin{equation*}\n",
    "A = \n",
    "\\begin{bmatrix}\n",
    "3 & 4 \\\\\n",
    "6 & 13\n",
    "\\end{bmatrix}\n",
    "\\end{equation*}"
   ]
  },
  {
   "cell_type": "markdown",
   "metadata": {},
   "source": [
    "(a) Compute the LU decomposition of it, i.e. $A = L \\cdot U$, where $L$ is a lowertriangular matrix and $U$ is an uppertriangular matrix. Use this decomposition to solve $A \\cdot x = b$ with $b = (1,2)^{T}$ via forward\n",
    "and backward substitution."
   ]
  },
  {
   "cell_type": "code",
   "execution_count": 4,
   "metadata": {},
   "outputs": [
    {
     "name": "stdout",
     "output_type": "stream",
     "text": [
      "L:  [[1.  0. ]\n",
      " [0.5 1. ]]\n",
      "U:  [[ 6.  13. ]\n",
      " [ 0.  -2.5]]\n",
      "\n",
      "L_inv:  [[ 1.   0. ]\n",
      " [-0.5  1. ]]\n",
      "U_inv:  [[ 0.16666667  0.86666667]\n",
      " [-0.         -0.4       ]]\n",
      "b:  [[1]\n",
      " [2]]\n",
      "\n",
      "x:  [[ 1.46666667]\n",
      " [-0.6       ]]\n",
      "\n",
      "[[2.]\n",
      " [1.]]\n"
     ]
    }
   ],
   "source": [
    "from scipy.linalg import lu\n",
    "\n",
    "# Define Matrix\n",
    "A = np.matrix([[3, 4],[6, 13]])\n",
    "\n",
    "# LU Decomposition, where P: Permutation matrix, L: Lower triangular matrix and U: Upper triangular matrix\n",
    "P, L, U = lu(A, permute_l=False)\n",
    "\n",
    "print(\"L: \", L)\n",
    "print(\"U: \", U)\n",
    "print()\n",
    "\n",
    "# A*x = b -> (LU)*x = b -> x = ((LU)^-1)*b -> x = (U^-1)*(L^-1)*b\n",
    "\n",
    "U_inv = inv(U)\n",
    "L_inv = inv(L)\n",
    "b = np.array([[1,2]]).transpose()\n",
    "print(\"L_inv: \", L_inv)\n",
    "print(\"U_inv: \", U_inv)\n",
    "print(\"b: \", b)\n",
    "print()\n",
    "\n",
    "x = U_inv.dot(L_inv).dot(b)\n",
    "print(\"x: \", x)\n",
    "print()\n",
    "\n",
    "# Result should be equal to b -> RETURNS THE TRANSPOSE\n",
    "print(A.dot(x))"
   ]
  },
  {
   "cell_type": "markdown",
   "metadata": {},
   "source": [
    "(b) Use Gauss elimination to explicitly calculate the inverse of $A$ and show that it yields the same solution $x = A^{-1} \\cdot b$ from part (a)."
   ]
  },
  {
   "cell_type": "code",
   "execution_count": null,
   "metadata": {},
   "outputs": [],
   "source": []
  },
  {
   "cell_type": "markdown",
   "metadata": {},
   "source": [
    "(c) For course improvements, we would like your feedback about this question. At least tell us how\n",
    "much time you did invest, if you had major problems and if you think it’s useful."
   ]
  },
  {
   "cell_type": "code",
   "execution_count": null,
   "metadata": {},
   "outputs": [],
   "source": []
  },
  {
   "cell_type": "markdown",
   "metadata": {},
   "source": [
    "4) **Vector Norms**\n",
    "\n",
    "The length of a vector is not a single number but can be defined in different ways. These vector norms\n",
    "share common properties but also have different characteristics.\n"
   ]
  },
  {
   "cell_type": "markdown",
   "metadata": {},
   "source": [
    "(a) Compute the $\\left\\lVert \\cdot \\right\\rVert_1$, $\\left\\lVert \\cdot \\right\\rVert_2$, $\\left\\lVert \\cdot \\right\\rVert_8$ and $\\left\\lVert \\cdot \\right\\rVert_\\infty$ norms of the following vectors:\n",
    "\n",
    "\n",
    "$x_1 = \\begin{bmatrix} 24  \\\\ 3 \\\\ 2 \\\\ 31 \\end{bmatrix}$\n",
    ",\n",
    "$x_2 = \\begin{bmatrix} 27  \\\\ 20 \\\\ 26 \\\\ 21 \\end{bmatrix}$\n",
    ",\n",
    "$x_3 = \\begin{bmatrix} 30  \\\\ 21 \\\\ 27 \\\\ 5 \\end{bmatrix}$\n",
    "and\n",
    "$x_4 = \\begin{bmatrix} 26  \\\\ 28 \\\\ 25 \\\\ 14 \\end{bmatrix}$\n",
    "\n"
   ]
  },
  {
   "cell_type": "code",
   "execution_count": 12,
   "metadata": {},
   "outputs": [
    {
     "name": "stdout",
     "output_type": "stream",
     "text": [
      "93.0\n",
      "47.75981574503821\n",
      "30.458236965849625\n",
      "28.0\n"
     ]
    }
   ],
   "source": [
    "# Define vectors\n",
    "x_1 = np.array([24,3,2,31])\n",
    "x_2 = np.array([27,20,26,21])\n",
    "x_3 = np.array([30,21,27,5])\n",
    "x_4 = np.array([26,28,25,14])\n",
    "\n",
    "# Define norms of order 1\n",
    "x_1_norm1 = norm(x_1, ord=1)\n",
    "x_2_norm1 = norm(x_2, ord=1)\n",
    "x_3_norm1 = norm(x_3, ord=1)\n",
    "x_4_norm1 = norm(x_4, ord=1)\n",
    "\n",
    "print(x_4_norm1)\n",
    "\n",
    "# Define norms of order 2\n",
    "x_1_norm2 = norm(x_1, ord=2)\n",
    "x_2_norm2 = norm(x_2, ord=2)\n",
    "x_3_norm2 = norm(x_3, ord=2)\n",
    "x_4_norm2 = norm(x_4, ord=2)\n",
    "\n",
    "print(x_4_norm2)\n",
    "\n",
    "# Define norms of order 8\n",
    "x_1_norm8 = norm(x_1, ord=8)\n",
    "x_2_norm8 = norm(x_2, ord=8)\n",
    "x_3_norm8 = norm(x_3, ord=8)\n",
    "x_4_norm8 = norm(x_4, ord=8)\n",
    "\n",
    "print(x_4_norm8)\n",
    "\n",
    "# Define norms of order inf (max(abs(x)))\n",
    "x_1_norm_inf = norm(x_1, ord=inf)\n",
    "x_2_norm_inf = norm(x_2, ord=inf)\n",
    "x_3_norm_inf = norm(x_3, ord=inf)\n",
    "x_4_norm_inf = norm(x_4, ord=inf)\n",
    "\n",
    "print(x_4_norm_inf)\n"
   ]
  },
  {
   "cell_type": "markdown",
   "metadata": {},
   "source": [
    "(b) Draw the set of points with $\\left\\lVert x \\right\\rVert_i = 1$ for $i \\in \\left\\{ 1, 2, 8, \\infty \\right\\}$ and $x \\in \\mathbb{R}^{2}$"
   ]
  },
  {
   "cell_type": "code",
   "execution_count": 20,
   "metadata": {},
   "outputs": [],
   "source": [
    "#TODO\n"
   ]
  },
  {
   "cell_type": "markdown",
   "metadata": {},
   "source": [
    "(c) For course improvements, we would like your feedback about this question. At least tell us how\n",
    "much time you did invest, if you had major problems and if you think it’s useful."
   ]
  },
  {
   "cell_type": "code",
   "execution_count": null,
   "metadata": {},
   "outputs": [],
   "source": []
  },
  {
   "cell_type": "markdown",
   "metadata": {},
   "source": [
    "5) **Special Orthorgonal Matrices**\n",
    "\n",
    "A very important class of matrices are the special orthogonal group _SO(n)_. These matrices are charac-\n",
    "terized by a unit determinant and correspond to rotations around the origin."
   ]
  },
  {
   "cell_type": "markdown",
   "metadata": {},
   "source": [
    "(a) Given the matrix\n",
    "\n",
    "\\begin{equation*}\n",
    "A = \n",
    "\\frac{1}{4} \\begin{bmatrix}\n",
    "7 & \\sqrt{3} \\\\\n",
    "\\sqrt{3} & 5\n",
    "\\end{bmatrix}\n",
    "\\end{equation*}\n",
    "\n",
    "compute $det(A), Tr(A)$ and its eigenvalues."
   ]
  },
  {
   "cell_type": "code",
   "execution_count": 7,
   "metadata": {},
   "outputs": [
    {
     "name": "stdout",
     "output_type": "stream",
     "text": [
      "Matrix A:  [[1.75      0.4330127]\n",
      " [0.4330127 1.25     ]]\n",
      "\n",
      "Det of A:  1.9999999999999998\n",
      "Trace of A:  3.0\n"
     ]
    }
   ],
   "source": [
    "from numpy.linalg import det\n",
    "\n",
    "# Define matrix\n",
    "A = (1/4) * np.matrix([[7, np.sqrt(3)],[np.sqrt(3), 5]])\n",
    "print(\"Matrix A: \", A)\n",
    "print()\n",
    "\n",
    "# Calculate determinant and trace of A\n",
    "print(\"Det of A: \", det(A))\n",
    "print(\"Trace of A: \", np.trace(A))\n"
   ]
  },
  {
   "cell_type": "markdown",
   "metadata": {},
   "source": [
    "(b) The matrix\n",
    "\n",
    "\\begin{equation*}\n",
    "Q(\\alpha) = \n",
    "\\begin{bmatrix}\n",
    "\\cos(\\alpha) & -\\sin(\\alpha) \\\\\n",
    "\\sin(\\alpha) & \\cos(\\alpha)\n",
    "\\end{bmatrix}\n",
    "\\end{equation*}\n",
    "\n",
    "represents a rotation around an axis by the angle $\\alpha$. Compute $A´ = Q \\cdot A \\cdot Q^{T}, det(A´), Tr(A´)$ and its eigenvalues for $\\alpha = \\pi/12$"
   ]
  },
  {
   "cell_type": "code",
   "execution_count": 10,
   "metadata": {},
   "outputs": [
    {
     "name": "stdout",
     "output_type": "stream",
     "text": [
      "[[1.5 0.5]\n",
      " [0.5 1.5]]\n",
      "\n",
      "Determinant of A':  2.0\n",
      "Trace of A':  3.0\n",
      "\n",
      "Eigenvalues of A':  [1. 2.]\n",
      "Eigenvectors of A':  [[-0.70710678 -0.70710678]\n",
      " [ 0.70710678 -0.70710678]]\n",
      "\n"
     ]
    }
   ],
   "source": [
    "# Define alpha\n",
    "alpha = np.pi/12\n",
    "\n",
    "# Define Rotation matrix Q\n",
    "Q = np.matrix([[np.cos(alpha), -np.sin(alpha)],[np.sin(alpha), np.cos(alpha)]])\n",
    "\n",
    "# Calculate A'\n",
    "A_quote = Q.dot(A).dot(Q.transpose())\n",
    "print(A_quote)\n",
    "print()\n",
    "\n",
    "# Calculate determinant of A'\n",
    "print(\"Determinant of A': \", det(A_quote))\n",
    "\n",
    "# Calculate trace of A'\n",
    "print(\"Trace of A': \", np.trace(A_quote))\n",
    "print()\n",
    "\n",
    "# Calculate eigendecomposition\n",
    "w, v = eig(A_quote)\n",
    "print(\"Eigenvalues of A': \", w)\n",
    "print(\"Eigenvectors of A': \", v)\n",
    "print()\n"
   ]
  },
  {
   "cell_type": "markdown",
   "metadata": {},
   "source": [
    "(c) What would $A´$ be for $\\alpha = \\pi/3$"
   ]
  },
  {
   "cell_type": "code",
   "execution_count": 13,
   "metadata": {},
   "outputs": [],
   "source": [
    "# Define new Rotation matrix\n",
    "new_alpha = np.pi/3\n",
    "Q = np.matrix([[np.cos(alpha), -np.sin(alpha)],[np.sin(alpha), np.cos(alpha)]])\n",
    "\n",
    "# Calculate A'\n",
    "A_quote = Q.dot(A).dot(Q.transpose())\n",
    "print(A_quote)"
   ]
  },
  {
   "cell_type": "markdown",
   "metadata": {},
   "source": [
    "(d) For course improvements, we would like your feedback about this question. At least tell us how\n",
    "much time you did invest, if you had major problems and if you think it’s useful."
   ]
  },
  {
   "cell_type": "code",
   "execution_count": null,
   "metadata": {},
   "outputs": [],
   "source": []
  }
 ],
 "metadata": {
  "kernelspec": {
   "display_name": "Python 3",
   "language": "python",
   "name": "python3"
  },
  "language_info": {
   "codemirror_mode": {
    "name": "ipython",
    "version": 3
   },
   "file_extension": ".py",
   "mimetype": "text/x-python",
   "name": "python",
   "nbconvert_exporter": "python",
   "pygments_lexer": "ipython3",
   "version": "3.5.2"
  }
 },
 "nbformat": 4,
 "nbformat_minor": 2
}
